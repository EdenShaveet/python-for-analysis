{
  "nbformat": 4,
  "nbformat_minor": 0,
  "metadata": {
    "colab": {
      "name": "BBall_challenge.ipynb",
      "provenance": [],
      "authorship_tag": "ABX9TyMY0yBrxsrNUolUV3Ep+NYL"
    },
    "kernelspec": {
      "name": "python3",
      "display_name": "Python 3"
    },
    "language_info": {
      "name": "python"
    }
  },
  "cells": [
    {
      "cell_type": "markdown",
      "source": [
        "# \"Basketball Players\" Coding Challenge"
      ],
      "metadata": {
        "id": "LKr6FRCjlrpg"
      }
    },
    {
      "cell_type": "markdown",
      "source": [
        "Provided a list of heights for various basketball players, calculate and output how many players there are in the range of one standard deviation from the mean."
      ],
      "metadata": {
        "id": "vRRaOWwUl2zP"
      }
    },
    {
      "cell_type": "markdown",
      "source": [
        "Package & data management"
      ],
      "metadata": {
        "id": "fqtCuDw2mBgX"
      }
    },
    {
      "cell_type": "code",
      "source": [
        "import numpy as np"
      ],
      "metadata": {
        "id": "pqU6kQMhmDeL"
      },
      "execution_count": 2,
      "outputs": []
    },
    {
      "cell_type": "code",
      "source": [
        "players = [180, 172, 178, 185, 190, 195, 192, 200, 210, 190] # Player Heights"
      ],
      "metadata": {
        "id": "wco1qV5qmSn-"
      },
      "execution_count": 3,
      "outputs": []
    },
    {
      "cell_type": "markdown",
      "source": [
        "Solution"
      ],
      "metadata": {
        "id": "5jY4x9tQmT8P"
      }
    },
    {
      "cell_type": "code",
      "execution_count": 4,
      "metadata": {
        "colab": {
          "base_uri": "https://localhost:8080/"
        },
        "id": "ieqQ9gF1lq5W",
        "outputId": "ae092317-9251-4939-bd68-b8c42d022853"
      },
      "outputs": [
        {
          "output_type": "stream",
          "name": "stdout",
          "text": [
            "6\n"
          ]
        }
      ],
      "source": [
        "sd = np.std(players)\n",
        "mean = np.mean(players)\n",
        "max = mean + sd\n",
        "min = mean - sd\n",
        "\n",
        "count = len([v for v in players if min < v < max])\n",
        "print(count)"
      ]
    }
  ]
}