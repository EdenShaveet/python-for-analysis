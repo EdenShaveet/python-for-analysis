{
  "nbformat": 4,
  "nbformat_minor": 0,
  "metadata": {
    "colab": {
      "name": "NumPy_Arrays.ipynb",
      "provenance": [],
      "authorship_tag": "ABX9TyOANDjU6uNgh6eLIkCxYIJz"
    },
    "kernelspec": {
      "name": "python3",
      "display_name": "Python 3"
    },
    "language_info": {
      "name": "python"
    }
  },
  "cells": [
    {
      "cell_type": "markdown",
      "source": [
        "# NumPy Arrays"
      ],
      "metadata": {
        "id": "TicvVxnFfP3P"
      }
    },
    {
      "cell_type": "markdown",
      "source": [
        "Package management"
      ],
      "metadata": {
        "id": "kWKaXKRHfX_i"
      }
    },
    {
      "cell_type": "code",
      "source": [
        "import numpy as np # import NumPy "
      ],
      "metadata": {
        "id": "KBMuA-EFfAt0"
      },
      "execution_count": null,
      "outputs": []
    },
    {
      "cell_type": "markdown",
      "source": [
        "Printing integer at single array index"
      ],
      "metadata": {
        "id": "zRHA7a3ofc3P"
      }
    },
    {
      "cell_type": "code",
      "execution_count": 4,
      "metadata": {
        "colab": {
          "base_uri": "https://localhost:8080/"
        },
        "id": "gZqIMevWevl0",
        "outputId": "f37b871e-a83b-4120-8d7a-744241493c63"
      },
      "outputs": [
        {
          "output_type": "stream",
          "name": "stdout",
          "text": [
            "1\n"
          ]
        }
      ],
      "source": [
        "x = np.array([1, 2, 3, 4]) # gen array\n",
        "print(x[0]) # retrieve integer at index 0"
      ]
    },
    {
      "cell_type": "markdown",
      "source": [
        "Array interval ranges"
      ],
      "metadata": {
        "id": "Qas6FDd6fu27"
      }
    },
    {
      "cell_type": "code",
      "source": [
        "x = np.arange(1, 7) # integer range 1-7, no step\n",
        "print(x)\n",
        "\n",
        "b = np.arange(1,20,2) # integer range 1-20, step size 2\n",
        "print(b)"
      ],
      "metadata": {
        "colab": {
          "base_uri": "https://localhost:8080/"
        },
        "id": "_OAtzP3JezxZ",
        "outputId": "5c007f35-e1d8-4a51-a56e-ba8464a2d932"
      },
      "execution_count": 2,
      "outputs": [
        {
          "output_type": "stream",
          "name": "stdout",
          "text": [
            "[1 2 3 4 5 6]\n",
            "[ 1  3  5  7  9 11 13 15 17 19]\n"
          ]
        }
      ]
    },
    {
      "cell_type": "markdown",
      "source": [
        "Reshaping arrays"
      ],
      "metadata": {
        "id": "oY3b7NZ0gVcS"
      }
    },
    {
      "cell_type": "code",
      "source": [
        "x = np.arange(1, 7)\n",
        "z = x.reshape(3, 2) # reshape array at 3 rows, 2 cols\n",
        "print(z)"
      ],
      "metadata": {
        "colab": {
          "base_uri": "https://localhost:8080/"
        },
        "id": "lQGEGJ43e0P8",
        "outputId": "92493e18-13e3-46de-ee21-e8c83caeffe7"
      },
      "execution_count": 7,
      "outputs": [
        {
          "output_type": "stream",
          "name": "stdout",
          "text": [
            "[[1 2]\n",
            " [3 4]\n",
            " [5 6]]\n"
          ]
        }
      ]
    },
    {
      "cell_type": "code",
      "source": [
        "b = np.arange(1,41)\n",
        "w = b.reshape(-1,2) # reshape array of n at x rows, 2 cols (where x = n/col)\n",
        "print(w)"
      ],
      "metadata": {
        "colab": {
          "base_uri": "https://localhost:8080/"
        },
        "id": "HaSqdN5QfI2d",
        "outputId": "b5333a16-37d3-4ef3-f4e0-98bb2bc032e1"
      },
      "execution_count": 8,
      "outputs": [
        {
          "output_type": "stream",
          "name": "stdout",
          "text": [
            "[[ 1  2]\n",
            " [ 3  4]\n",
            " [ 5  6]\n",
            " [ 7  8]\n",
            " [ 9 10]\n",
            " [11 12]\n",
            " [13 14]\n",
            " [15 16]\n",
            " [17 18]\n",
            " [19 20]\n",
            " [21 22]\n",
            " [23 24]\n",
            " [25 26]\n",
            " [27 28]\n",
            " [29 30]\n",
            " [31 32]\n",
            " [33 34]\n",
            " [35 36]\n",
            " [37 38]\n",
            " [39 40]]\n"
          ]
        }
      ]
    },
    {
      "cell_type": "code",
      "source": [
        "x = np.array([[1, 2], [3, 4], [5, 6]]) # array of grouped integers (3 x 2)\n",
        "print(x)\n",
        "\n",
        "z = x.reshape(6) # flatten array (1 x 6)\n",
        "print(z)\n",
        "\n",
        "x1 = np.array([[1,2,3],[2,3,4]]) # array of grouped integers (2 x 3)\n",
        "print(x1)\n",
        "\n",
        "z1 = x1.reshape(6) # flatten array (1 x 6)\n",
        "print(z1)"
      ],
      "metadata": {
        "colab": {
          "base_uri": "https://localhost:8080/"
        },
        "id": "P1NzyHXffJpb",
        "outputId": "e1168dbd-4037-4e76-cc07-7564d3017c2a"
      },
      "execution_count": 11,
      "outputs": [
        {
          "output_type": "stream",
          "name": "stdout",
          "text": [
            "[[1 2]\n",
            " [3 4]\n",
            " [5 6]]\n",
            "[1 2 3 4 5 6]\n",
            "[[1 2 3]\n",
            " [2 3 4]]\n",
            "[1 2 3 2 3 4]\n"
          ]
        }
      ]
    },
    {
      "cell_type": "markdown",
      "source": [
        "Printing integers at array index interval"
      ],
      "metadata": {
        "id": "QOe3EMFDi2Ya"
      }
    },
    {
      "cell_type": "code",
      "source": [
        "x = np.arange(1, 10)\n",
        "print(x)\n",
        "\n",
        "print(x[0:2]) # print integers at indices 0-2\n",
        "print(x[5:]) # print integers beginning at index 5\n",
        "print(x[:2]) # print integers until index 2\n",
        "print(x[-3:]) # print last 3 integers from end\n",
        "\n",
        "z = np.arange(1,100)\n",
        "print(z)\n",
        "\n",
        "print(z[2:40]) # print integers at indices 2-40\n",
        "\n",
        "print(z[:50]) # print integers until index 50\n",
        "\n",
        "print(z[50:]) # print integers beginning at index 50"
      ],
      "metadata": {
        "colab": {
          "base_uri": "https://localhost:8080/"
        },
        "id": "T0gm_bKaiZMe",
        "outputId": "6fa4b65e-2771-47ad-e2ab-9df28c45ddf5"
      },
      "execution_count": 14,
      "outputs": [
        {
          "output_type": "stream",
          "name": "stdout",
          "text": [
            "[1 2 3 4 5 6 7 8 9]\n",
            "[1 2]\n",
            "[6 7 8 9]\n",
            "[1 2]\n",
            "[7 8 9]\n",
            "[ 1  2  3  4  5  6  7  8  9 10 11 12 13 14 15 16 17 18 19 20 21 22 23 24\n",
            " 25 26 27 28 29 30 31 32 33 34 35 36 37 38 39 40 41 42 43 44 45 46 47 48\n",
            " 49 50 51 52 53 54 55 56 57 58 59 60 61 62 63 64 65 66 67 68 69 70 71 72\n",
            " 73 74 75 76 77 78 79 80 81 82 83 84 85 86 87 88 89 90 91 92 93 94 95 96\n",
            " 97 98 99]\n",
            "[ 3  4  5  6  7  8  9 10 11 12 13 14 15 16 17 18 19 20 21 22 23 24 25 26\n",
            " 27 28 29 30 31 32 33 34 35 36 37 38 39 40]\n",
            "[ 1  2  3  4  5  6  7  8  9 10 11 12 13 14 15 16 17 18 19 20 21 22 23 24\n",
            " 25 26 27 28 29 30 31 32 33 34 35 36 37 38 39 40 41 42 43 44 45 46 47 48\n",
            " 49 50]\n",
            "[51 52 53 54 55 56 57 58 59 60 61 62 63 64 65 66 67 68 69 70 71 72 73 74\n",
            " 75 76 77 78 79 80 81 82 83 84 85 86 87 88 89 90 91 92 93 94 95 96 97 98\n",
            " 99]\n"
          ]
        }
      ]
    },
    {
      "cell_type": "markdown",
      "source": [
        "Conditionally printing integers in arrays"
      ],
      "metadata": {
        "id": "4J_eqkq8kq-q"
      }
    },
    {
      "cell_type": "code",
      "source": [
        "x = np.arange(1, 10)\n",
        "print(x[x<4]) # print integers in array x less than 4\n",
        "\n",
        "print(x[x>5]) # print integers in array x greater than 4\n",
        "\n",
        "print(x[x!=6]) # print integers in array x that are not 6"
      ],
      "metadata": {
        "colab": {
          "base_uri": "https://localhost:8080/"
        },
        "id": "IZIzebAakPSf",
        "outputId": "bd10fc63-79f4-4f7e-a4ac-adcc5cb11270"
      },
      "execution_count": 17,
      "outputs": [
        {
          "output_type": "stream",
          "name": "stdout",
          "text": [
            "[1 2 3]\n",
            "[6 7 8 9]\n",
            "[1 2 3 4 5 7 8 9]\n"
          ]
        }
      ]
    },
    {
      "cell_type": "code",
      "source": [
        "x = np.arange(1, 10)\n",
        "\n",
        "print(x[(x>5) & (x%2==0)]) # print even numbers greater than 5\n",
        "\n",
        "print(x[(x<3) & (x%2==0)]) # print even numbers less than 3"
      ],
      "metadata": {
        "colab": {
          "base_uri": "https://localhost:8080/"
        },
        "id": "rWZ1UVoulEUZ",
        "outputId": "6dab91dd-5734-4d59-bec7-6f6e9dbcf786"
      },
      "execution_count": 18,
      "outputs": [
        {
          "output_type": "stream",
          "name": "stdout",
          "text": [
            "[6 8]\n",
            "[2]\n"
          ]
        }
      ]
    }
  ]
}