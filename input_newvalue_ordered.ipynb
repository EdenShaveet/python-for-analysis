{
  "nbformat": 4,
  "nbformat_minor": 0,
  "metadata": {
    "colab": {
      "name": "input_newvalue_ordered.ipynb",
      "provenance": [],
      "authorship_tag": "ABX9TyN2fqSHgDDWpl/2f6fXqYXM"
    },
    "kernelspec": {
      "name": "python3",
      "display_name": "Python 3"
    },
    "language_info": {
      "name": "python"
    }
  },
  "cells": [
    {
      "cell_type": "markdown",
      "source": [
        "# Add an Input Value to an Array, Sorted in Ascending or Descending order "
      ],
      "metadata": {
        "id": "zkSL_7W7m_pT"
      }
    },
    {
      "cell_type": "markdown",
      "source": [
        "Package & data management"
      ],
      "metadata": {
        "id": "7r8XgpotnYiq"
      }
    },
    {
      "cell_type": "code",
      "source": [
        "import numpy as np\n",
        "\n",
        "data = np.array([1000, 2500, 1400, 1800, 900, 4200, 2200, 1900, 3500])"
      ],
      "metadata": {
        "id": "dEPFOKvWndx1"
      },
      "execution_count": 17,
      "outputs": []
    },
    {
      "cell_type": "markdown",
      "source": [
        "Solution"
      ],
      "metadata": {
        "id": "aasOolYIn1D2"
      }
    },
    {
      "cell_type": "code",
      "execution_count": 18,
      "metadata": {
        "colab": {
          "base_uri": "https://localhost:8080/"
        },
        "id": "cbroc4oXm9oD",
        "outputId": "0a94dafc-3cd0-4f30-f6ea-b0f3be85fec1"
      },
      "outputs": [
        {
          "output_type": "stream",
          "name": "stdout",
          "text": [
            "new value: 450\n",
            "[ 450  900 1000 1400 1800 1900 2200 2500 3500 4200]\n"
          ]
        }
      ],
      "source": [
        "nv=int(input(\"new value: \")) # intake new value nv\n",
        "\n",
        "data = np.append(data, nv) # append array with nv\n",
        "\n",
        "data_a = np.sort(data) # sort in ascending order\n",
        "\n",
        "print(data_a) #output"
      ]
    },
    {
      "cell_type": "code",
      "source": [
        "data_d = data_a[::-1] # sort in descending order\n",
        "\n",
        "print(data_d) #output"
      ],
      "metadata": {
        "colab": {
          "base_uri": "https://localhost:8080/"
        },
        "id": "jfPyKSFGogFA",
        "outputId": "d63272e9-2b44-4aec-b7a5-6c506436adc5"
      },
      "execution_count": 19,
      "outputs": [
        {
          "output_type": "stream",
          "name": "stdout",
          "text": [
            "[4200 3500 2500 2200 1900 1800 1400 1000  900  450]\n"
          ]
        }
      ]
    }
  ]
}